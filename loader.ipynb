{
 "cells": [
  {
   "cell_type": "code",
   "execution_count": 2,
   "metadata": {},
   "outputs": [],
   "source": [
    "import sys\n",
    "import numpy as np\n",
    "import gym\n",
    "import csv\n",
    "from random import random\n",
    "import ast\n",
    "from tqdm import tqdm"
   ]
  },
  {
   "cell_type": "code",
   "execution_count": null,
   "metadata": {},
   "outputs": [
    {
     "name": "stderr",
     "output_type": "stream",
     "text": [
      "Processing Rows:  10%|█         | 1026/9847 [01:28<12:58, 11.33it/s]Exception ignored in: <bound method IPythonKernel._clean_thread_parent_frames of <ipykernel.ipkernel.IPythonKernel object at 0x7b6125b31b80>>\n",
      "Traceback (most recent call last):\n",
      "  File \"/home/mario/.pyenv/versions/3.9.21/lib/python3.9/site-packages/ipykernel/ipkernel.py\", line 775, in _clean_thread_parent_frames\n",
      "    def _clean_thread_parent_frames(\n",
      "KeyboardInterrupt: \n",
      "Processing Rows:  12%|█▏        | 1186/9847 [01:42<12:25, 11.62it/s]"
     ]
    }
   ],
   "source": [
    "with open('policy.csv', 'r') as f:\n",
    "        header=f.readline()\n",
    "        rows=[row.split('\"')for row in f.readlines()]\n",
    "        policy={ast.literal_eval(row[1]):int(row[2].strip(',')) for row in tqdm(rows, desc='Processing Rows')}"
   ]
  },
  {
   "cell_type": "code",
   "execution_count": null,
   "metadata": {},
   "outputs": [],
   "source": [
    "env = gym.make(\"MsPacmanDeterministic-v4\", obs_type=\"grayscale\", frameskip=8, render_mode=\"human\")\n",
    "obs=env.reset()\n",
    "s=tuple(obs.flatten()) \n",
    "\n",
    "total_reward=0\n",
    "done=False\n",
    "\n",
    "while not done:\n",
    "    if s in policy:\n",
    "        action = policy[s]    \n",
    "        newObs, reward, done, _,  = env.step(action)\n",
    "        newObs= tuple(newObs.flatten())\n",
    "    else:\n",
    "        done=True\n",
    "    s=newObs\n",
    "    total_reward += reward\n",
    "    if done:\n",
    "        break"
   ]
  }
 ],
 "metadata": {
  "kernelspec": {
   "display_name": "Python 3",
   "language": "python",
   "name": "python3"
  },
  "language_info": {
   "codemirror_mode": {
    "name": "ipython",
    "version": 3
   },
   "file_extension": ".py",
   "mimetype": "text/x-python",
   "name": "python",
   "nbconvert_exporter": "python",
   "pygments_lexer": "ipython3",
   "version": "3.9.21"
  }
 },
 "nbformat": 4,
 "nbformat_minor": 2
}
