{
 "cells": [
  {
   "cell_type": "code",
   "execution_count": 1,
   "metadata": {},
   "outputs": [],
   "source": [
    "import sys\n",
    "import numpy as np\n",
    "import gym\n",
    "import csv\n",
    "from random import random\n",
    "from tqdm import tqdm\n",
    "import pickle\n",
    "\n",
    "sys.stderr = open(\"log\", \"w\", buffering=1)"
   ]
  },
  {
   "cell_type": "code",
   "execution_count": 2,
   "metadata": {},
   "outputs": [],
   "source": [
    "env = gym.make(\"MsPacmanDeterministic-v4\", obs_type=\"grayscale\", frameskip=60)\n",
    "initial_state=current_state = tuple(env.reset().flatten())\n",
    "gamma=0.85\n",
    "decay=0.97\n",
    "\n",
    "value_function={}\n",
    "\n",
    "known_paths={current_state:0}\n",
    "known_paths[current_state]={}\n",
    "known_paths[current_state][1]={\"reward\":0, \"next_state\":0}"
   ]
  },
  {
   "cell_type": "code",
   "execution_count": 3,
   "metadata": {},
   "outputs": [],
   "source": [
    "def policy_improvement (states , nA , value_function, gamma=0.9):\n",
    "    policy={}\n",
    "    for s in states:\n",
    "        value_per_action = np.zeros(shape=(nA,))\n",
    "        for action in known_paths[s]:\n",
    "                \n",
    "            action_val =  known_paths[s][action]['reward'] + gamma * value_function[known_paths[s][action][\"next_state\"]]\n",
    "            value_per_action[action] = action_val\n",
    "        \n",
    "        best_action = np.argmax(value_per_action)\n",
    "        policy[s] = best_action\n",
    "    \n",
    "    return policy\n",
    "\n",
    "\n",
    "def value_iteration(nA, epsilon, episodes, gamma=0.9, tol=10):\n",
    "    \n",
    "    numIters = 0\n",
    "\n",
    "    maxChange = np.inf\n",
    "    \n",
    "    done=False\n",
    "\n",
    "    total_reward=0\n",
    "    \n",
    "    rand=0\n",
    "    think=0\n",
    "\n",
    "    for i in tqdm(range(episodes)):\n",
    "        obs=env.reset()\n",
    "        s=tuple(obs.flatten())\n",
    "        done=False\n",
    "        while not done:\n",
    "\n",
    "            a = env.action_space.sample()\n",
    "            next_state, reward, done, _  = env.step(a)\n",
    "            next_state=tuple(next_state.flatten())\n",
    "            total_reward+=reward\n",
    "            known_paths[s][a]={\"reward\":reward,\"next_state\":next_state}\n",
    "\n",
    "            if next_state not in known_paths:\n",
    "                known_paths[next_state]={}\n",
    "                known_paths[next_state][0]={\"reward\":0,\"next_state\":0}\n",
    "\n",
    "            s=next_state\n",
    "            if done:      \n",
    "                break\n",
    "\n",
    "    print('Incepe convergenta')\n",
    "    \n",
    "    states = list(known_paths.keys())\n",
    "    while maxChange > tol:\n",
    "        numIters += 1\n",
    "        maxChange = 0.0\n",
    "        for s in states:\n",
    "            bestActionValue = -np.inf\n",
    "            for action in known_paths[s]:\n",
    "                 \n",
    "                if known_paths[s][action]['next_state'] not in value_function:\n",
    "                    value_function[known_paths[s][action]['next_state']]=0\n",
    "                \n",
    "                value_for_thisAction = 0.0\n",
    "\n",
    "                if known_paths[s][action]['next_state'] ==0:      \n",
    "                    value_for_thisAction =  known_paths[s][action]['reward'] \n",
    "                else:\n",
    "                    value_for_thisAction = known_paths[s][action]['reward'] + gamma * value_function[known_paths[s][action]['next_state']]\n",
    "                    \n",
    "                if value_for_thisAction > bestActionValue:\n",
    "                    bestActionValue = value_for_thisAction\n",
    "            \n",
    "            if s in value_function:\n",
    "                maxChange = max(maxChange, abs(value_function[s] - bestActionValue))\n",
    "\n",
    "            value_function[s] = bestActionValue\n",
    "\n",
    "        \n",
    "    print(f\"Value iteration converged after {numIters} steps\\n\")\n",
    "    policy = policy_improvement(states, nA, value_function, gamma)\n",
    "    return value_function, policy\n"
   ]
  },
  {
   "cell_type": "code",
   "execution_count": 4,
   "metadata": {},
   "outputs": [],
   "source": [
    "def runEpisode(env, policy):\n",
    "     \n",
    "    total_reward = 0\n",
    "    print(\"Joaca ce a invatat\")\n",
    "    done=False\n",
    "    obs=env.reset()\n",
    "    s=tuple(obs.flatten()) \n",
    "        \n",
    "    while not done:\n",
    "        if s in policy:\n",
    "            action = policy[s]    \n",
    "            newObs, reward, done, _,  = env.step(action)\n",
    "            newObs= tuple(newObs.flatten())\n",
    "        else:\n",
    "            done=True\n",
    "\n",
    "        s=newObs\n",
    "        total_reward += reward\n",
    "        if done:\n",
    "            env.close()\n",
    "            break\n",
    "    \n",
    "    print(f\"Scorul politicii {total_reward}\")  "
   ]
  },
  {
   "cell_type": "code",
   "execution_count": 5,
   "metadata": {},
   "outputs": [
    {
     "name": "stdout",
     "output_type": "stream",
     "text": [
      "##############Episode: 0###############\n",
      "Epsilon: 1\n",
      "\n"
     ]
    },
    {
     "name": "stderr",
     "output_type": "stream",
     "text": [
      "A.L.E: Arcade Learning Environment (version 0.7.5+db37282)\n",
      "[Powered by Stella]\n"
     ]
    },
    {
     "name": "stdout",
     "output_type": "stream",
     "text": [
      "Incepe convergenta\n",
      "Value iteration converged after 52 steps\n",
      "\n",
      "Stie 2130 mutari\n",
      "\n"
     ]
    }
   ],
   "source": [
    "if __name__==\"__main__\":\n",
    "\n",
    "    epsilon=1\n",
    "    best_policy={}\n",
    "   \n",
    "    print(f\"##############Episode: {0}###############\\nEpsilon: {epsilon}\\n\")\n",
    "    states=list(known_paths.keys())\n",
    "    best_value, best_policy = value_iteration(env.action_space.n, epsilon, 70, gamma=gamma, tol=10e-3)\n",
    "    epsilon =max(0.05,epsilon*decay)\n",
    "    with open('policy_2.pkl','wb') as f:\n",
    "            pickle.dump(best_policy, f)\n",
    "    print(f\"Stie {len(best_policy.keys())} mutari\\n\")"
   ]
  },
  {
   "cell_type": "code",
   "execution_count": 6,
   "metadata": {},
   "outputs": [
    {
     "name": "stdout",
     "output_type": "stream",
     "text": [
      "Joaca ce a invatat\n",
      "Scorul politicii 910.0\n"
     ]
    }
   ],
   "source": [
    "runEpisode(env, policy=best_policy)"
   ]
  }
 ],
 "metadata": {
  "kernelspec": {
   "display_name": "3.9.21",
   "language": "python",
   "name": "python3"
  },
  "language_info": {
   "codemirror_mode": {
    "name": "ipython",
    "version": 3
   },
   "file_extension": ".py",
   "mimetype": "text/x-python",
   "name": "python",
   "nbconvert_exporter": "python",
   "pygments_lexer": "ipython3",
   "version": "3.9.21"
  }
 },
 "nbformat": 4,
 "nbformat_minor": 2
}
